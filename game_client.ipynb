{
 "cells": [
  {
   "cell_type": "code",
   "execution_count": 1,
   "metadata": {},
   "outputs": [],
   "source": [
    "import os, sys\n",
    "import json\n",
    "import urllib\n",
    "import math\n",
    "\n",
    "import numpy as np\n",
    "from matplotlib import pyplot as plt"
   ]
  },
  {
   "cell_type": "code",
   "execution_count": 9,
   "metadata": {},
   "outputs": [],
   "source": [
    "server_url = 'https://euclid-echo-homer-1.herokuapp.com'"
   ]
  },
  {
   "cell_type": "code",
   "execution_count": 7,
   "metadata": {},
   "outputs": [],
   "source": [
    "def call(path, id_code='', is_post=False, is_cli=True, **kwargs):\n",
    "    \"\"\"\n",
    "    Inputs\n",
    "    ------\n",
    "    path:      API endpoint (as per game help) without leading slash [string] e.g. 'move/50.1/1.6'\n",
    "    id_code:   unique andro_id needed for all andro-specific commands [string]\n",
    "    is_post:   [bool, default False] only needed when posting form parameters for andro ID setup\n",
    "    is_cli:    [bool, default True] tells the server to return JSON confirmations in cases that\n",
    "                 it would otherwise render HTML\n",
    "    **kwargs:  other keyword arguments to pass either as regular parameters (is_post=False) or\n",
    "                 as form parameters (is_post=True)\n",
    "    \"\"\"\n",
    "    params = []\n",
    "    if is_cli:\n",
    "        params.append(('cli', 'true'))\n",
    "    if id_code != '':\n",
    "        params.append(('id', id_code))\n",
    "    path = urllib.parse.quote(path)\n",
    "    cmd = f'curl \"{server_url}/{path}'\n",
    "    if is_post:\n",
    "        # add trailing double quote prior to form params\n",
    "        cmd += '?' + urllib.parse.urlencode(params) + '\"'\n",
    "        for k, v in kwargs.items():\n",
    "            cmd += f\" --form {k}={v}\"\n",
    "    else:\n",
    "        params.extend(list(kwargs.items()))\n",
    "        cmd += '?' + urllib.parse.urlencode(params) + '\"'\n",
    "    #print(cmd)\n",
    "    res = os.popen(cmd).read()\n",
    "    try:\n",
    "        return json.loads(res)\n",
    "    except:\n",
    "        return res\n",
    "    \n",
    "def make_player(name):\n",
    "    info = call('make_session', is_post=True, name=name)\n",
    "    try:\n",
    "        assert info['success']\n",
    "        return info['andro_id']\n",
    "    except:\n",
    "        print(\"Problem: \" + str(info))"
   ]
  },
  {
   "cell_type": "code",
   "execution_count": 4,
   "metadata": {},
   "outputs": [],
   "source": [
    "def radar_scan(andro_id, bearing):\n",
    "    return call(\"radar/{}\".format(bearing), id_code=andro_id)\n",
    "\n",
    "def full_scan(andro_id):\n",
    "    data_dict = {}\n",
    "    # single scans are 30 degree arcs\n",
    "    for bearing in np.linspace(0, 360, int(360/30)+1)[:-1]:\n",
    "        data_dict.update(radar_scan(andro_id, bearing)['data'])     \n",
    "    radar_pts = []\n",
    "    for bearing, res in data_dict.items():\n",
    "        radar_pts.extend([(dist*np.cos((90-float(bearing))*math.pi/180),\n",
    "                           dist*np.sin((90-float(bearing))*math.pi/180), signal) \\\n",
    "                          for dist, signal in res])\n",
    "    return radar_pts, data_dict"
   ]
  },
  {
   "cell_type": "code",
   "execution_count": 14,
   "metadata": {},
   "outputs": [],
   "source": [
    "andro_id1 = make_player(\"Fry\")"
   ]
  },
  {
   "cell_type": "code",
   "execution_count": 15,
   "metadata": {
    "scrolled": true
   },
   "outputs": [],
   "source": [
    "andro_id2 = make_player(\"Laurie\")"
   ]
  },
  {
   "cell_type": "code",
   "execution_count": 12,
   "metadata": {},
   "outputs": [
    {
     "data": {
      "text/plain": [
       "('t_M9uVMqtVc4HQWtxYMxKw', 'S0v-spwtLXkP2A58OufJZQ')"
      ]
     },
     "execution_count": 12,
     "metadata": {},
     "output_type": "execute_result"
    }
   ],
   "source": [
    "andro_id1, andro_id2"
   ]
  },
  {
   "cell_type": "code",
   "execution_count": 16,
   "metadata": {},
   "outputs": [
    {
     "data": {
      "text/plain": [
       "{'API info': 'These API endpoints require you to add your drone_id as a parameter. All return values are JSON and the server is JSONP compatible.',\n",
       " 'Command endpoint list': ['help',\n",
       "  'help/<command_name>',\n",
       "  'status',\n",
       "  'move/<bearing>/<distance>',\n",
       "  'speak/<volume>/<message>',\n",
       "  'memory/<kind>',\n",
       "  'see',\n",
       "  'radar/<bearing>',\n",
       "  'refuel/<item_id>',\n",
       "  'extract'],\n",
       " 'Game info': 'Navigate your drone avatar and find the exit at the centroid of the four beacons. Collaborate or compete!'}"
      ]
     },
     "execution_count": 16,
     "metadata": {},
     "output_type": "execute_result"
    }
   ],
   "source": [
    "call('help', id=andro_id1)"
   ]
  },
  {
   "cell_type": "code",
   "execution_count": 8,
   "metadata": {},
   "outputs": [
    {
     "data": {
      "text/plain": [
       "\"'radar/<bearing>' returns a 30 degree spread of detected objects centered at given bearing from North. Angular accuracy is limited to the nearest degree and distance accuracy decreases for distant objects. Returns a mapping of angle to a list of (distance, reflection strength).\""
      ]
     },
     "execution_count": 8,
     "metadata": {},
     "output_type": "execute_result"
    }
   ],
   "source": [
    "call('help/radar', id=andro_id1)"
   ]
  },
  {
   "cell_type": "code",
   "execution_count": 16,
   "metadata": {},
   "outputs": [
    {
     "data": {
      "text/plain": [
       "{'status': {'achievements': [],\n",
       "  'devices': {'1': 'Empty', '2': 'Empty', '3': 'Empty'},\n",
       "  'fuel': 99.99761743202211,\n",
       "  'mass': 19.99986174320221,\n",
       "  'time_elapsed': '0:00:04.243191'},\n",
       " 'success': True}"
      ]
     },
     "execution_count": 16,
     "metadata": {},
     "output_type": "execute_result"
    }
   ],
   "source": [
    "call('status', id_code=andro_id1)"
   ]
  },
  {
   "cell_type": "code",
   "execution_count": 17,
   "metadata": {},
   "outputs": [
    {
     "data": {
      "text/plain": [
       "{'success': True,\n",
       " 'visuals': [{'bearing': 66.21414906212286,\n",
       "   'description': 'marker (J0DN13,594)',\n",
       "   'distance': 6.379544167390618}]}"
      ]
     },
     "execution_count": 17,
     "metadata": {},
     "output_type": "execute_result"
    }
   ],
   "source": [
    "call('see', id_code=andro_id1)"
   ]
  },
  {
   "cell_type": "code",
   "execution_count": 18,
   "metadata": {},
   "outputs": [
    {
     "data": {
      "text/plain": [
       "{'distance': 2, 'success': True}"
      ]
     },
     "execution_count": 18,
     "metadata": {},
     "output_type": "execute_result"
    }
   ],
   "source": [
    "call('move/180/2', id_code=andro_id1)"
   ]
  },
  {
   "cell_type": "code",
   "execution_count": 19,
   "metadata": {},
   "outputs": [
    {
     "data": {
      "text/plain": [
       "{'success': True}"
      ]
     },
     "execution_count": 19,
     "metadata": {},
     "output_type": "execute_result"
    }
   ],
   "source": [
    "call(\"speak/9/how are you today? i want to talk about solving this centroid problem!\", id_code=andro_id1)"
   ]
  },
  {
   "cell_type": "code",
   "execution_count": 20,
   "metadata": {},
   "outputs": [
    {
     "data": {
      "text/plain": [
       "{'events': [], 'success': True}"
      ]
     },
     "execution_count": 20,
     "metadata": {},
     "output_type": "execute_result"
    }
   ],
   "source": [
    "call(\"memory/speech\", id_code=andro_id1)"
   ]
  },
  {
   "cell_type": "code",
   "execution_count": 21,
   "metadata": {},
   "outputs": [
    {
     "data": {
      "text/plain": [
       "{'data': {'46.0': [],\n",
       "  '47.0': [],\n",
       "  '48.0': [],\n",
       "  '49.0': [],\n",
       "  '50.0': [[152.09074236550356, 0.04321242857003997]],\n",
       "  '51.0': [[223.74233403536795, 0.020058710320197758],\n",
       "   [7.400374404196609, 1.801832456083324]],\n",
       "  '52.0': [],\n",
       "  '53.0': [[121.9097354983599, 0.06639032631727422]],\n",
       "  '54.0': [[211.27371810964385, 0.022497373577221112]],\n",
       "  '55.0': [],\n",
       "  '56.0': [],\n",
       "  '57.0': [],\n",
       "  '58.0': [],\n",
       "  '59.0': [],\n",
       "  '60.0': [],\n",
       "  '61.0': [],\n",
       "  '62.0': [],\n",
       "  '63.0': [],\n",
       "  '64.0': [],\n",
       "  '65.0': [],\n",
       "  '66.0': [],\n",
       "  '67.0': [],\n",
       "  '68.0': [],\n",
       "  '69.0': [],\n",
       "  '70.0': [[177.33251660244778, 0.03141109109274493]],\n",
       "  '71.0': [],\n",
       "  '72.0': [],\n",
       "  '73.0': [],\n",
       "  '74.0': []},\n",
       " 'success': True}"
      ]
     },
     "execution_count": 21,
     "metadata": {},
     "output_type": "execute_result"
    }
   ],
   "source": [
    "radar_scan(andro_id1, 60)"
   ]
  },
  {
   "cell_type": "code",
   "execution_count": 22,
   "metadata": {},
   "outputs": [],
   "source": [
    "radar_pts, data_dict = full_scan(andro_id1)\n",
    "radar_xs, radar_ys, signals = list(zip(*radar_pts))"
   ]
  },
  {
   "cell_type": "code",
   "execution_count": 23,
   "metadata": {},
   "outputs": [
    {
     "data": {
      "image/png": "[encoded data removed]",
      "text/plain": [
       "<Figure size 720x720 with 1 Axes>"
      ]
     },
     "metadata": {},
     "output_type": "display_data"
    }
   ],
   "source": [
    "fig1, ax1 = plt.subplots(figsize=(10,10))\n",
    "ax1.scatter(radar_xs, radar_ys, s=10*np.sqrt(np.array(signals)))\n",
    "#ax1.set_xlim(-250,250)\n",
    "#ax1.set_ylim(-250,250)\n",
    "ax1.set_aspect('equal')"
   ]
  },
  {
   "cell_type": "code",
   "execution_count": 24,
   "metadata": {},
   "outputs": [
    {
     "data": {
      "text/plain": [
       "array([2.36648278e-02, 5.05984507e-02, 4.06756075e-02, 1.89654327e-01,\n",
       "       4.42393006e-02, 5.29398755e-02, 2.50707050e-02, 2.74954784e-02,\n",
       "       8.10412757e-01, 1.59810119e-01, 7.17109845e-02, 5.76975010e-02,\n",
       "       9.86067557e-02, 3.29785723e-02, 2.51165988e-02, 3.55022670e-02,\n",
       "       4.32124286e-02, 1.80183246e+00, 6.63903263e-02, 2.24973736e-02,\n",
       "       3.14110911e-02, 2.04834088e-02, 2.96278621e-01, 2.57027583e-02,\n",
       "       1.86002334e-01, 9.45481210e-02, 2.35415317e-02, 3.00327225e-02,\n",
       "       5.00148616e-02, 3.78401755e-02, 3.25453738e-02, 1.22614318e-01,\n",
       "       1.49125690e-01, 2.86038496e-01, 4.37401864e-02, 4.21310963e-02,\n",
       "       3.26789890e-02, 1.81818987e-01, 8.34711298e-02, 5.41441517e-02,\n",
       "       3.06908560e-02, 4.03376270e-02, 2.53957786e-02, 7.27819828e-02,\n",
       "       1.55670388e-01, 6.67342337e-01, 4.38293200e-02, 1.97030482e-01,\n",
       "       2.38258278e-02, 1.65040057e-01, 2.00675174e-02, 2.41278408e-02,\n",
       "       8.26460563e-02, 9.61994988e-02, 2.43953010e-02, 2.06728857e-02,\n",
       "       4.17264302e-02, 5.77003920e-02, 2.08226208e+01, 2.68226673e-02,\n",
       "       3.19754820e-02, 6.26786892e-02, 5.46329999e-02, 9.96410475e-02])"
      ]
     },
     "execution_count": 24,
     "metadata": {},
     "output_type": "execute_result"
    }
   ],
   "source": [
    "np.array(signals)"
   ]
  },
  {
   "cell_type": "code",
   "execution_count": 26,
   "metadata": {},
   "outputs": [
    {
     "data": {
      "text/plain": [
       "{'data': 'no such item closer than 1m', 'success': False}"
      ]
     },
     "execution_count": 26,
     "metadata": {},
     "output_type": "execute_result"
    }
   ],
   "source": [
    "call('refuel/E379J8', id_code=andro_id1)"
   ]
  },
  {
   "cell_type": "code",
   "execution_count": null,
   "metadata": {},
   "outputs": [],
   "source": []
  }
 ],
 "metadata": {
  "kernelspec": {
   "display_name": "Python 3",
   "language": "python",
   "name": "python3"
  },
  "language_info": {
   "codemirror_mode": {
    "name": "ipython",
    "version": 3
   },
   "file_extension": ".py",
   "mimetype": "text/x-python",
   "name": "python",
   "nbconvert_exporter": "python",
   "pygments_lexer": "ipython3",
   "version": "3.6.5"
  }
 },
 "nbformat": 4,
 "nbformat_minor": 2
}
